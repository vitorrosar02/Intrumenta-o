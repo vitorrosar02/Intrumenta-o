{
  "nbformat": 4,
  "nbformat_minor": 0,
  "metadata": {
    "colab": {
      "provenance": []
    },
    "kernelspec": {
      "name": "python3",
      "display_name": "Python 3"
    },
    "language_info": {
      "name": "python"
    },
    "gpuClass": "standard"
  },
  "cells": [
    {
      "cell_type": "markdown",
      "source": [
        "##INTRODUÇÃO A PYTHON E PANDAS\n",
        "\n",
        "#Introdução\n",
        "\n",
        "Python é uma linguagem de programação de alto nível, interpretada e dinamicamente tipada, que é popular para desenvolvimento web, ciência de dados, automação de tarefas, entre outros. Pandas é uma biblioteca de análise de dados que é popular para trabalhar com dados tabulares.\n",
        "\n",
        "#Sintaxe\n",
        "\n",
        "A sintaxe em Python é relativamente simples. Para começar, todas as declarações são terminadas por dois pontos (:), e blocos de código são delimitados por indentação. Por exemplo, um loop for pode ser escrito da seguinte maneira:"
      ],
      "metadata": {
        "id": "Twc4ahCGRTLb"
      }
    },
    {
      "cell_type": "code",
      "source": [],
      "metadata": {
        "id": "L3AwoNUy23cd"
      },
      "execution_count": null,
      "outputs": []
    },
    {
      "cell_type": "code",
      "source": [
        "for i in range(10):\n",
        "    print(i)\n"
      ],
      "metadata": {
        "id": "3Fk0npvaRQEM",
        "outputId": "627db025-59f6-4531-f9fc-db3db6461841",
        "colab": {
          "base_uri": "https://localhost:8080/"
        }
      },
      "execution_count": null,
      "outputs": [
        {
          "output_type": "stream",
          "name": "stdout",
          "text": [
            "0\n",
            "1\n",
            "2\n",
            "3\n",
            "4\n",
            "5\n",
            "6\n",
            "7\n",
            "8\n",
            "9\n"
          ]
        }
      ]
    },
    {
      "cell_type": "markdown",
      "source": [
        "Isso imprimirá os números de 0 a 9 na tela. Observe que a linha com o print é indentada. Isso indica que ela faz parte do loop for.\n",
        "\n",
        "Outra parte fundamental da sintaxe em Python são os comentários. Comentários são linhas de código que são ignoradas pelo interpretador, mas que são úteis para documentação e esclarecimento de código. Comentários começam com o símbolo #. \n",
        "#Por exemplo:"
      ],
      "metadata": {
        "id": "lne1uPGHRrHa"
      }
    },
    {
      "cell_type": "code",
      "source": [
        "# Este é um comentário\n",
        "x = 5 # Isto é também um comentário\n"
      ],
      "metadata": {
        "id": "iLt1nA2qRxWS"
      },
      "execution_count": null,
      "outputs": []
    },
    {
      "cell_type": "markdown",
      "source": [
        "#Variáveis\n",
        "\n",
        "Variáveis em Python são atribuídas com o operador de atribuição =. Python é uma linguagem dinamicamente tipada, o que significa que você não precisa declarar explicitamente o tipo de uma variável. O tipo é inferido automaticamente pelo Python, dependendo do valor atribuído à variável."
      ],
      "metadata": {
        "id": "oCCCqndYR3hw"
      }
    },
    {
      "cell_type": "code",
      "source": [
        "x = 5 # x é um inteiro\n",
        "y = \"Hello\" # y é uma string\n",
        "z = [1, 2, 3] # z é uma lista\n"
      ],
      "metadata": {
        "id": "WLEJSum9WBzs"
      },
      "execution_count": null,
      "outputs": []
    },
    {
      "cell_type": "markdown",
      "source": [
        "\n",
        "Observe que as listas em Python são criadas usando colchetes [].\n",
        "\n",
        "#Listas\n",
        "As listas são uma das estruturas de dados mais básicas em Python. Elas são um conjunto ordenado de valores, que podem ser de diferentes tipos. Listas são mutáveis, o que significa que é possível modificar seus valores.\n",
        "\n"
      ],
      "metadata": {
        "id": "haX7S-guWAy_"
      }
    },
    {
      "cell_type": "code",
      "source": [
        "my_list = [1, 2, 3, \"hello\", \"world\"]\n",
        "my_list"
      ],
      "metadata": {
        "id": "ACcJS4GJWR3h"
      },
      "execution_count": null,
      "outputs": []
    },
    {
      "cell_type": "markdown",
      "source": [
        "Para acessar um elemento específico em uma lista, você pode usar o operador de índice []."
      ],
      "metadata": {
        "id": "YLtVu49RWe_h"
      }
    },
    {
      "cell_type": "code",
      "source": [
        "print(my_list[0]) # imprime 1\n",
        "print(my_list[3]) # imprime \"hello\"\n"
      ],
      "metadata": {
        "id": "Fd5LtJlEWhTn"
      },
      "execution_count": null,
      "outputs": []
    },
    {
      "cell_type": "markdown",
      "source": [
        "Para adicionar um elemento no final da lista, você pode usar o método append."
      ],
      "metadata": {
        "id": "sJ6fQPP6Wsqx"
      }
    },
    {
      "cell_type": "code",
      "source": [
        "my_list.append(4)\n",
        "print(my_list) # imprime [1, 2, 3, \"hello\", \"world\", 4]"
      ],
      "metadata": {
        "id": "xPLY3BKDWuht"
      },
      "execution_count": null,
      "outputs": []
    },
    {
      "cell_type": "markdown",
      "source": [
        "Para remover um elemento específico da lista, você pode usar o método remove.\n"
      ],
      "metadata": {
        "id": "bsetG4XCW2Eu"
      }
    },
    {
      "cell_type": "code",
      "source": [
        "my_list.remove(2)\n",
        "print(my_list) # imprime [1, 3, \"hello\", \"world\", 4]\n"
      ],
      "metadata": {
        "id": "ptSnOGAGW7Kh"
      },
      "execution_count": null,
      "outputs": []
    },
    {
      "cell_type": "markdown",
      "source": [
        "#Tuplas\n",
        "Tuplas são estruturas de dados semelhantes a listas, mas que são imutáveis. Isso significa que você não pode adicionar, remover ou modificar elementos em uma tupla depois de criá-la."
      ],
      "metadata": {
        "id": "AgOlcPyCXGUM"
      }
    },
    {
      "cell_type": "code",
      "source": [
        "my_tuple = (1, 2, 3, \"hello\", \"world\")\n"
      ],
      "metadata": {
        "id": "_XDLhUVVXMCJ"
      },
      "execution_count": null,
      "outputs": []
    },
    {
      "cell_type": "markdown",
      "source": [
        "O acesso a elementos em uma tupla é feito da mesma maneira que em uma lista, usando o operador de índice []"
      ],
      "metadata": {
        "id": "6pXUF1oeXSjB"
      }
    },
    {
      "cell_type": "code",
      "source": [
        "print(my_tuple[0]) # imprime 1\n",
        "print(my_tuple[3]) # imprime \"hello\"\n"
      ],
      "metadata": {
        "id": "gp1BbRXrXXo2"
      },
      "execution_count": null,
      "outputs": []
    },
    {
      "cell_type": "markdown",
      "source": [
        "Embora você não possa modificar uma tupla depois de criá-la, é possível criar uma nova tupla a partir de uma existente, adicionando ou removendo elementos.\n"
      ],
      "metadata": {
        "id": "OqTfkz0IXgOu"
      }
    },
    {
      "cell_type": "code",
      "source": [
        "new_tuple = my_tuple + (4,)\n",
        "print(new_tuple) # imprime (1, 2, 3, \"hello\", \"world\", 4)\n"
      ],
      "metadata": {
        "id": "3zeMQglnXkNk"
      },
      "execution_count": null,
      "outputs": []
    },
    {
      "cell_type": "markdown",
      "source": [
        "Observe que para adicionar um único elemento a uma tupla, é necessário incluí-lo dentro de parênteses e seguido por uma vírgula. Isso ocorre porque o Python interpreta parênteses sem vírgula como uma expressão, e não como uma tupla.\n",
        "\n",
        "#Conjuntos\n",
        "Conjuntos em Python são estruturas de dados que armazenam um conjunto não ordenado e sem repetição de elementos. Conjuntos são úteis para operações matemáticas como união, interseção e diferença."
      ],
      "metadata": {
        "id": "8KHTGhp3X3Ml"
      }
    },
    {
      "cell_type": "code",
      "source": [
        "my_set = {1, 2, 3, 4, 5}\n"
      ],
      "metadata": {
        "id": "GipZy4vZYFxf"
      },
      "execution_count": null,
      "outputs": []
    },
    {
      "cell_type": "markdown",
      "source": [
        "Para adicionar um elemento a um conjunto, você pode usar o método add."
      ],
      "metadata": {
        "id": "QDZv7M39YNcp"
      }
    },
    {
      "cell_type": "code",
      "source": [
        "my_set.add(6)\n",
        "print(my_set) # imprime {1, 2, 3, 4, 5, 6}"
      ],
      "metadata": {
        "id": "Sq9f5500YOuL"
      },
      "execution_count": null,
      "outputs": []
    },
    {
      "cell_type": "markdown",
      "source": [
        "Para remover um elemento de um conjunto, você pode usar o método remove."
      ],
      "metadata": {
        "id": "PovVYXjlYR5-"
      }
    },
    {
      "cell_type": "code",
      "source": [
        "my_set.remove(4)\n",
        "print(my_set) # imprime {1, 2, 3, 5, 6}"
      ],
      "metadata": {
        "id": "l5jj5w8CYXa_"
      },
      "execution_count": null,
      "outputs": []
    },
    {
      "cell_type": "markdown",
      "source": [
        "#Dicionários\n",
        "Dicionários em Python são estruturas de dados que associam uma chave a um valor. Cada chave em um dicionário é única."
      ],
      "metadata": {
        "id": "ojMdevzMYsrf"
      }
    },
    {
      "cell_type": "code",
      "source": [
        "my_dict = {\"name\": \"John\", \"age\": 30, \"city\": \"New York\"}\n"
      ],
      "metadata": {
        "id": "eyCFZQvrYwu1"
      },
      "execution_count": null,
      "outputs": []
    },
    {
      "cell_type": "markdown",
      "source": [
        "Para acessar o valor de um elemento em um dicionário, você pode usar a chave correspondente."
      ],
      "metadata": {
        "id": "tWExdYfZYyL_"
      }
    },
    {
      "cell_type": "code",
      "source": [
        "print(my_dict[\"name\"]) # imprime \"John\"\n",
        "print(my_dict[\"age\"]) # imprime 30\n"
      ],
      "metadata": {
        "id": "MS8SjQ_GYxBv"
      },
      "execution_count": null,
      "outputs": []
    },
    {
      "cell_type": "markdown",
      "source": [
        "Para adicionar um novo elemento a um dicionário, você pode simplesmente atribuir um valor a uma nova chave."
      ],
      "metadata": {
        "id": "rTmJY39HY6VV"
      }
    },
    {
      "cell_type": "code",
      "source": [
        "my_dict[\"gender\"] = \"male\"\n",
        "print(my_dict) # imprime {\"name\": \"John\", \"age\": 30, \"city\": \"New York\", \"gender\": \"male\"}\n"
      ],
      "metadata": {
        "id": "m7WYhRC-ZDje"
      },
      "execution_count": null,
      "outputs": []
    },
    {
      "cell_type": "markdown",
      "source": [
        "Para remover um elemento de um dicionário, você pode usar a palavra-chave del."
      ],
      "metadata": {
        "id": "VJt0HEIBZMcT"
      }
    },
    {
      "cell_type": "code",
      "source": [
        "del my_dict[\"city\"]\n",
        "print(my_dict) # imprime {\"name\": \"John\", \"age\": 30, \"gender\": \"male\"}\n"
      ],
      "metadata": {
        "id": "dVW3raJLZPKH"
      },
      "execution_count": null,
      "outputs": []
    },
    {
      "cell_type": "markdown",
      "source": [
        "Em Python, existem vários tipos de dados predefinidos, incluindo:\n",
        "\n",
        "*int (inteiro): números inteiros, como 1, 2, 3, etc.\n",
        "\n",
        "*float (ponto flutuante): números reais, como 1.0, 2.5, 3.14159, etc.\n",
        "\n",
        "*bool (booleano): valores lógicos True (verdadeiro) e False (falso).\n",
        "\n",
        "*str (string): sequências de caracteres, como \"hello\", \"world\", etc.\n",
        "\n",
        "*list: coleções ordenadas de objetos, que podem ser de diferentes tipos de dados.\n",
        "\n",
        "*tuple: coleções ordenadas de objetos, que podem ser de diferentes tipos de dados, mas são imutáveis (ou seja, não podem ser alteradas após a criação).\n",
        "\n",
        "*set: coleções não ordenadas de objetos exclusivos, que podem ser de diferentes tipos de dados.\n",
        "\n",
        "*dict (dicionário): coleções não ordenadas de pares chave-valor, onde as chaves são únicas e os valores podem ser de diferentes tipos de dados.\n",
        "\n",
        "Para descobrir o tipo de dados de uma variável em Python, podemos usar a função type()."
      ],
      "metadata": {
        "id": "X9gaODw-ZQRd"
      }
    },
    {
      "cell_type": "code",
      "source": [
        "x = 10\n",
        "y = str(x)\n",
        "print(type(y))   # <class 'str'>\n",
        "\n",
        "z = float(x)\n",
        "print(type(z))   # <class 'float'>\n",
        "\n",
        "w = bool(x)\n",
        "print(type(w))   # <class 'bool'>\n"
      ],
      "metadata": {
        "id": "yD1ligZceJB4"
      },
      "execution_count": null,
      "outputs": []
    },
    {
      "cell_type": "markdown",
      "source": [
        "Compreender os tipos de dados em Python é importante para trabalhar com variáveis e estruturas de dados em Python.\n",
        "\n",
        "#Loops\n",
        "Os loops permitem que você execute um bloco de código várias vezes. Em Python, existem dois tipos principais de loops: o loop for e o loop while.\n",
        "\n",
        "#Loop for\n",
        "O loop for é usado para iterar sobre uma sequência de itens. Por exemplo, podemos usar um loop for para imprimir cada elemento de uma lista:"
      ],
      "metadata": {
        "id": "-4b7TsUSePkd"
      }
    },
    {
      "cell_type": "code",
      "source": [
        "fruits = [\"apple\", \"banana\", \"cherry\"]\n",
        "\n",
        "for fruit in fruits:\n",
        "    print(fruit)\n"
      ],
      "metadata": {
        "id": "XJvNUVWbg7oK"
      },
      "execution_count": null,
      "outputs": []
    },
    {
      "cell_type": "markdown",
      "source": [
        "#Loop while\n",
        "O loop while é usado para repetir um bloco de código enquanto uma condição for verdadeira. Por exemplo, podemos usar um loop while para imprimir os números de 0 a 4:"
      ],
      "metadata": {
        "id": "WT5BF7QqhAWn"
      }
    },
    {
      "cell_type": "code",
      "source": [
        "i = 0\n",
        "\n",
        "while i < 5:\n",
        "    print(i)\n",
        "    i += 1\n"
      ],
      "metadata": {
        "id": "XcX2uYILhChB"
      },
      "execution_count": null,
      "outputs": []
    },
    {
      "cell_type": "markdown",
      "source": [
        "#Funções\n",
        "As funções são blocos de código que executam uma tarefa específica. Em Python, você pode criar suas próprias funções usando a palavra-chave def.\n",
        "\n",
        "Por exemplo, podemos criar uma função que calcula a soma de dois números:"
      ],
      "metadata": {
        "id": "u_zufZPzhImE"
      }
    },
    {
      "cell_type": "code",
      "source": [
        "def add_numbers(x, y):\n",
        "    return x + y\n",
        "\n",
        "result = add_numbers(3, 5)\n",
        "print(result)   # 8\n"
      ],
      "metadata": {
        "id": "lmORZEuzhFvv"
      },
      "execution_count": null,
      "outputs": []
    },
    {
      "cell_type": "markdown",
      "source": [
        "Neste exemplo, a função add_numbers recebe dois argumentos (x e y) e retorna sua soma.\n",
        "\n",
        "As funções podem ser usadas para organizar o código em blocos reutilizáveis e também para tornar o código mais legível.\n",
        "\n",
        "Além disso, em Python existem muitas funções predefinidas, como: **print(), len(), range()**, etc. Você também pode importar módulos que contêm funções adicionais para estender as funcionalidades do Python."
      ],
      "metadata": {
        "id": "CQ5uWPWphQ6s"
      }
    },
    {
      "cell_type": "markdown",
      "source": [
        "#Glossário com definições sucintas de alguns termos e comandos usados até aqui:\n",
        "\n",
        "Python: Uma linguagem de programação de alto nível, interpretada, interativa e orientada a objetos.\n",
        "Pandas: Uma biblioteca Python de análise de dados que fornece estruturas de dados de alta performance e ferramentas de análise de dados.\n",
        "\n",
        "+ Sintaxe: A forma correta de escrever o código em uma linguagem de programação, incluindo a ordem dos comandos, a pontuação, etc.\n",
        "\n",
        "+ Loops: Estruturas de controle de fluxo que permitem que um bloco de código seja executado várias vezes.\n",
        "\n",
        "+ Loop for: Um tipo de loop que é usado para iterar sobre uma sequência de itens.\n",
        "\n",
        "+ Loop while: Um tipo de loop que é usado para repetir um bloco de código enquanto uma condição for verdadeira.\n",
        "\n",
        "+ Variáveis: Um nome que é usado para se referir a um valor armazenado na memória do computador.\n",
        "\n",
        "+ Listas: Uma coleção ordenada e mutável de elementos, que podem ser de diferentes tipos de dados.\n",
        "\n",
        "+ Tuplas: Uma coleção ordenada e imutável de elementos, que podem ser de diferentes tipos de dados.\n",
        "\n",
        "+ Sets: Uma coleção não ordenada e mutável de elementos únicos.\n",
        "\n",
        "+ Dicionários: Uma coleção não ordenada e mutável de pares chave-valor.\n",
        "\n",
        "+ Funções: Blocos de código que executam uma tarefa específica e podem ser reutilizados em diferentes partes do programa.\n",
        "\n",
        "+ def: Uma palavra-chave em Python usada para definir uma nova função.\n",
        "\n",
        "+ return: Uma palavra-chave em Python usada para retornar um valor de uma função.\n",
        "\n",
        "+ Indexação: A maneira de acessar elementos individuais em uma sequência, como uma lista ou uma string, usando colchetes e um índice.\n",
        "\n",
        "+ Métodos: Funções associadas a um objeto específico que podem ser usadas para modificar ou consultar esse objeto.\n",
        "\n",
        "+ Numpy: Uma biblioteca Python para computação científica, que fornece suporte para arrays multidimensionais e funções matemáticas.\n",
        "\n",
        "+ Array: Uma estrutura de dados multidimensional usada para armazenar elementos do mesmo tipo de dados.\n",
        "\n",
        "+ Dataframe: A estrutura de dados central na biblioteca Pandas, que é usada para armazenar dados tabulares em duas dimensões (linhas e colunas).\n",
        "\n",
        "+ Series: Uma estrutura de dados unidimensional semelhante a uma lista, mas com recursos adicionais e otimizada para análise de dados.\n",
        "\n",
        "+ iloc: Um método usado para acessar elementos em um dataframe ou série pelo seu índice inteiro.\n",
        "\n",
        "+ loc: Um método usado para acessar elementos em um dataframe ou série por meio de rótulos de linha ou coluna.\n",
        "\n",
        "+ groupby: Um método usado para agrupar dados em um dataframe com base em valores de uma ou mais colunas.\n",
        "\n",
        "+ apply: Um método usado para aplicar uma função a um dataframe ou série.\n",
        "\n",
        "+ merge: Um método usado para combinar dois dataframes com base em uma ou mais colunas em comum.\n",
        "\n",
        "+ concat: Um método usado para concatenar dois ou mais dataframes ou séries ao longo de um eixo específico.\n",
        "\n",
        "# Uma lista de algumas das bibliotecas mais usadas em Python:\n",
        "\n",
        "+ Pandas: Uma biblioteca para análise de dados que fornece estruturas de dados de alta performance e ferramentas de análise de dados.\n",
        "+ Numpy: Uma biblioteca para computação científica que fornece suporte para arrays multidimensionais e funções matemáticas.\n",
        "+ Matplotlib: Uma biblioteca para visualização de dados em gráficos e plots.\n",
        "+ Scikit-learn: Uma biblioteca para aprendizado de máquina que fornece algoritmos para classificação, regressão e clusterização.\n",
        "+ TensorFlow: Uma biblioteca para aprendizado de máquina que fornece uma plataforma para construir e treinar modelos de redes neurais.\n",
        "+ PyTorch: Uma biblioteca para aprendizado de máquina que fornece uma plataforma para construir e treinar modelos de redes neurais, com ênfase em deep learning.\n",
        "+ Seaborn: Uma biblioteca para visualização de dados em gráficos e plots, construída em cima do Matplotlib e com recursos adicionais.\n",
        "+ SciPy: Uma biblioteca para computação científica que fornece algoritmos para otimização, álgebra linear, processamento de sinais e estatísticas.\n",
        "+ Requests: Uma biblioteca para fazer requisições HTTP em Python.\n",
        "+ BeautifulSoup: Uma biblioteca para extrair informações de HTML e XML em Python."
      ],
      "metadata": {
        "id": "qHSn6k8MjhuD"
      }
    },
    {
      "cell_type": "markdown",
      "source": [
        "#Pandas.\n",
        "\n",
        "Pandas é uma biblioteca popular de análise de dados em Python que fornece estruturas de dados de alta performance e ferramentas de manipulação de dados. As duas estruturas de dados principais em Pandas são as Series e DataFrames.\n",
        "\n",
        "Series\n",
        "Uma Series é uma estrutura de dados unidimensional semelhante a uma matriz, lista ou coluna de uma tabela de banco de dados. Cada elemento em uma Series é rotulado com um índice, que pode ser um valor inteiro ou uma string."
      ],
      "metadata": {
        "id": "24hi_R90h3Wd"
      }
    },
    {
      "cell_type": "code",
      "source": [
        "import pandas as pd\n",
        "\n",
        "my_series = pd.Series([10, 20, 30, 40, 50], index=['a', 'b', 'c', 'd', 'e'])\n",
        "print(my_series)\n"
      ],
      "metadata": {
        "id": "IenHnT6Nh6HK"
      },
      "execution_count": null,
      "outputs": []
    },
    {
      "cell_type": "markdown",
      "source": [
        "#DataFrames\n",
        "Um DataFrame é uma estrutura de dados tabular bidimensional semelhante a uma planilha do Excel ou a uma tabela de banco de dados. Cada coluna em um DataFrame é uma Series, e as linhas são rotuladas com um índice."
      ],
      "metadata": {
        "id": "XeLIv8N7h9v5"
      }
    },
    {
      "cell_type": "code",
      "source": [
        "my_dict = {'name': ['John', 'Mary', 'Peter', 'Jane'],\n",
        "           'age': [30, 25, 40, 35],\n",
        "           'city': ['New York', 'Paris', 'London', 'Sydney']}\n",
        "\n",
        "my_dataframe = pd.DataFrame(my_dict)\n",
        "print(my_dataframe)\n"
      ],
      "metadata": {
        "id": "AQoYx1ZsiCxz"
      },
      "execution_count": null,
      "outputs": []
    },
    {
      "cell_type": "markdown",
      "source": [
        "#Selecionando Dados\n",
        "Pandas fornece muitas maneiras de selecionar e filtrar dados em um DataFrame. Uma maneira simples de selecionar colunas é usar a notação de colchetes."
      ],
      "metadata": {
        "id": "q8MpA-5tiHhM"
      }
    },
    {
      "cell_type": "code",
      "source": [
        "names = my_dataframe['name']\n",
        "print(names)\n"
      ],
      "metadata": {
        "id": "4jATzVsPiLK_"
      },
      "execution_count": null,
      "outputs": []
    },
    {
      "cell_type": "markdown",
      "source": [
        "Para selecionar linhas, você pode usar o método loc."
      ],
      "metadata": {
        "id": "oOs0zYLRiNnj"
      }
    },
    {
      "cell_type": "code",
      "source": [
        "row = my_dataframe.loc[2]\n",
        "print(row)"
      ],
      "metadata": {
        "id": "x5KeJWGsiROp"
      },
      "execution_count": null,
      "outputs": []
    },
    {
      "cell_type": "markdown",
      "source": [
        "Você também pode selecionar um subconjunto de linhas e colunas usando a notação de colchetes."
      ],
      "metadata": {
        "id": "9VdovOFhid1W"
      }
    },
    {
      "cell_type": "code",
      "source": [
        "subset = my_dataframe.loc[[1, 3], ['name', 'city']]\n",
        "print(subset)\n"
      ],
      "metadata": {
        "id": "zL-4Jp-lijKe"
      },
      "execution_count": null,
      "outputs": []
    },
    {
      "cell_type": "code",
      "source": [],
      "metadata": {
        "id": "iiIwoQcCjFh-"
      },
      "execution_count": null,
      "outputs": []
    },
    {
      "cell_type": "markdown",
      "source": [
        "## Exercício\n",
        "\n",
        "Crie uma função chamada sum_even_numbers que recebe uma lista de números como argumento e retorna a soma de todos os números pares na lista.\n",
        "\n",
        "Em seguida, crie um loop que pede ao usuário para digitar uma lista de números separados por vírgula e, em seguida, chama a função sum_even_numbers com a lista de entrada. O loop deve continuar até que o usuário digite \"fim\" para sair.\n",
        "\n",
        "Por exemplo:"
      ],
      "metadata": {
        "id": "k0eg4T1HjHtT"
      }
    },
    {
      "cell_type": "code",
      "source": [
        "def sum_even_numbers(numbers):\n",
        "    sum = 0\n",
        "    for num in numbers:\n",
        "        if num % 2 == 0:\n",
        "            sum += num\n",
        "    return sum\n",
        "\n",
        "while True:\n",
        "    user_input = input(\"Digite uma lista de números separados por vírgula (ou 'fim' para sair): \")\n",
        "    if user_input == \"fim\":\n",
        "        break\n",
        "    numbers = user_input.split(\",\")\n",
        "    numbers = [int(num) for num in numbers]"
      ],
      "metadata": {
        "id": "eexytS5djT_K"
      },
      "execution_count": null,
      "outputs": []
    }
  ]
}